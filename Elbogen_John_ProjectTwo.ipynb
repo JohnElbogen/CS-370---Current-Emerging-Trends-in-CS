{
 "cells": [
  {
   "cell_type": "markdown",
   "metadata": {},
   "source": [
    "# Treasure Hunt Game Notebook\n",
    "\n",
    "## Read and Review Your Starter Code\n",
    "The theme of this project is a popular treasure hunt game in which the player needs to find the treasure before the pirate does. While you will not be developing the entire game, you will write the part of the game that represents the intelligent agent, which is a pirate in this case. The pirate will try to find the optimal path to the treasure using deep Q-learning. \n",
    "\n",
    "You have been provided with two Python classes and this notebook to help you with this assignment. The first class, TreasureMaze.py, represents the environment, which includes a maze object defined as a matrix. The second class, GameExperience.py, stores the episodes – that is, all the states that come in between the initial state and the terminal state. This is later used by the agent for learning by experience, called \"exploration\". This notebook shows how to play a game. Your task is to complete the deep Q-learning implementation for which a skeleton implementation has been provided. The code blocs you will need to complete has #TODO as a header.\n",
    "\n",
    "First, read and review the next few code and instruction blocks to understand the code that you have been given."
   ]
  },
  {
   "cell_type": "code",
   "execution_count": 1,
   "metadata": {},
   "outputs": [],
   "source": [
    "from __future__ import print_function\n",
    "import os, sys, time, datetime, json, random\n",
    "import numpy as np\n",
    "from keras.models import Sequential\n",
    "from keras.layers.core import Dense, Activation\n",
    "from keras.optimizers import SGD , Adam, RMSprop\n",
    "from keras.layers.advanced_activations import PReLU\n",
    "import matplotlib.pyplot as plt\n",
    "from TreasureMaze import TreasureMaze\n",
    "from GameExperience import GameExperience\n",
    "%matplotlib inline"
   ]
  },
  {
   "cell_type": "markdown",
   "metadata": {},
   "source": [
    "The following code block contains an 8x8 matrix that will be used as a maze object:"
   ]
  },
  {
   "cell_type": "code",
   "execution_count": 2,
   "metadata": {},
   "outputs": [],
   "source": [
    "maze = np.array([\n",
    "    [ 1.,  0.,  1.,  1.,  1.,  1.,  1.,  1.],\n",
    "    [ 1.,  0.,  1.,  1.,  1.,  0.,  1.,  1.],\n",
    "    [ 1.,  1.,  1.,  1.,  0.,  1.,  0.,  1.],\n",
    "    [ 1.,  1.,  1.,  0.,  1.,  1.,  1.,  1.],\n",
    "    [ 1.,  1.,  0.,  1.,  1.,  1.,  1.,  1.],\n",
    "    [ 1.,  1.,  1.,  0.,  1.,  0.,  0.,  0.],\n",
    "    [ 1.,  1.,  1.,  0.,  1.,  1.,  1.,  1.],\n",
    "    [ 1.,  1.,  1.,  1.,  0.,  1.,  1.,  1.]\n",
    "])"
   ]
  },
  {
   "cell_type": "markdown",
   "metadata": {},
   "source": [
    "This helper function allows a visual representation of the maze object:"
   ]
  },
  {
   "cell_type": "code",
   "execution_count": 3,
   "metadata": {},
   "outputs": [],
   "source": [
    "def show(qmaze):\n",
    "    plt.grid('on')\n",
    "    nrows, ncols = qmaze.maze.shape\n",
    "    ax = plt.gca()\n",
    "    ax.set_xticks(np.arange(0.5, nrows, 1))\n",
    "    ax.set_yticks(np.arange(0.5, ncols, 1))\n",
    "    ax.set_xticklabels([])\n",
    "    ax.set_yticklabels([])\n",
    "    canvas = np.copy(qmaze.maze)\n",
    "    for row,col in qmaze.visited:\n",
    "        canvas[row,col] = 0.6\n",
    "    pirate_row, pirate_col, _ = qmaze.state\n",
    "    canvas[pirate_row, pirate_col] = 0.3   # pirate cell\n",
    "    canvas[nrows-1, ncols-1] = 0.9 # treasure cell\n",
    "    img = plt.imshow(canvas, interpolation='none', cmap='gray')\n",
    "    return img"
   ]
  },
  {
   "cell_type": "markdown",
   "metadata": {},
   "source": [
    "The pirate agent can move in four directions: left, right, up, and down. \n",
    "\n",
    "While the agent primarily learns by experience through exploitation, often, the agent can choose to explore the environment to find previously undiscovered paths. This is called \"exploration\" and is defined by epsilon. This value is typically a lower value such as 0.1, which means for every ten attempts, the agent will attempt to learn by experience nine times and will randomly explore a new path one time. You are encouraged to try various values for the exploration factor and see how the algorithm performs."
   ]
  },
  {
   "cell_type": "code",
   "execution_count": 4,
   "metadata": {},
   "outputs": [],
   "source": [
    "LEFT = 0\n",
    "UP = 1\n",
    "RIGHT = 2\n",
    "DOWN = 3\n",
    "\n",
    "\n",
    "# Exploration factor\n",
    "epsilon = 0.1\n",
    "\n",
    "# Actions dictionary\n",
    "actions_dict = {\n",
    "    LEFT: 'left',\n",
    "    UP: 'up',\n",
    "    RIGHT: 'right',\n",
    "    DOWN: 'down',\n",
    "}\n",
    "\n",
    "num_actions = len(actions_dict)\n"
   ]
  },
  {
   "cell_type": "markdown",
   "metadata": {},
   "source": [
    "The sample code block and output below show creating a maze object and performing one action (DOWN), which returns the reward. The resulting updated environment is visualized."
   ]
  },
  {
   "cell_type": "code",
   "execution_count": 5,
   "metadata": {},
   "outputs": [
    {
     "name": "stdout",
     "output_type": "stream",
     "text": [
      "reward= -0.04\n"
     ]
    },
    {
     "data": {
      "text/plain": [
       "<matplotlib.image.AxesImage at 0x23086658be0>"
      ]
     },
     "execution_count": 5,
     "metadata": {},
     "output_type": "execute_result"
    },
    {
     "data": {
      "image/png": "[encoded data removed]",
      "text/plain": [
       "<Figure size 432x288 with 1 Axes>"
      ]
     },
     "metadata": {
      "needs_background": "light"
     },
     "output_type": "display_data"
    }
   ],
   "source": [
    "qmaze = TreasureMaze(maze)\n",
    "canvas, reward, game_over = qmaze.act(DOWN)\n",
    "print(\"reward=\", reward)\n",
    "show(qmaze)"
   ]
  },
  {
   "cell_type": "markdown",
   "metadata": {},
   "source": [
    "This function simulates a full game based on the provided trained model. The other parameters include the TreasureMaze object and the starting position of the pirate."
   ]
  },
  {
   "cell_type": "code",
   "execution_count": 6,
   "metadata": {},
   "outputs": [],
   "source": [
    "def play_game(model, qmaze, pirate_cell):\n",
    "    qmaze.reset(pirate_cell)\n",
    "    envstate = qmaze.observe()\n",
    "    while True:\n",
    "        prev_envstate = envstate\n",
    "        # get next action\n",
    "        q = model.predict(prev_envstate)\n",
    "        action = np.argmax(q[0])\n",
    "\n",
    "        # apply action, get rewards and new state\n",
    "        envstate, reward, game_status = qmaze.act(action)\n",
    "        if game_status == 'win':\n",
    "            return True\n",
    "        elif game_status == 'lose':\n",
    "            return False"
   ]
  },
  {
   "cell_type": "markdown",
   "metadata": {},
   "source": [
    "This function helps you to determine whether the pirate can win any game at all. If your maze is not well designed, the pirate may not win any game at all. In this case, your training would not yield any result. The provided maze in this notebook ensures that there is a path to win and you can run this method to check."
   ]
  },
  {
   "cell_type": "code",
   "execution_count": 7,
   "metadata": {},
   "outputs": [],
   "source": [
    "def completion_check(model, qmaze):\n",
    "    for cell in qmaze.free_cells:\n",
    "        if not qmaze.valid_actions(cell):\n",
    "            return False\n",
    "        if not play_game(model, qmaze, cell):\n",
    "            return False\n",
    "    return True"
   ]
  },
  {
   "cell_type": "markdown",
   "metadata": {},
   "source": [
    "The code you have been given in this block will build the neural network model. Review the code and note the number of layers, as well as the activation, optimizer, and loss functions that are used to train the model."
   ]
  },
  {
   "cell_type": "code",
   "execution_count": 8,
   "metadata": {},
   "outputs": [],
   "source": [
    "def build_model(maze, lr=0.001):\n",
    "    model = Sequential()\n",
    "    model.add(Dense(maze.size, input_shape=(maze.size,)))\n",
    "    model.add(PReLU())\n",
    "    model.add(Dense(maze.size))\n",
    "    model.add(PReLU())\n",
    "    model.add(Dense(num_actions))\n",
    "    model.compile(optimizer='adam', loss='mse')\n",
    "    return model"
   ]
  },
  {
   "cell_type": "markdown",
   "metadata": {},
   "source": [
    "# #TODO: Complete the Q-Training Algorithm Code Block\n",
    "\n",
    "This is your deep Q-learning implementation. The goal of your deep Q-learning implementation is to find the best possible navigation sequence that results in reaching the treasure cell while maximizing the reward. In your implementation, you need to determine the optimal number of epochs to achieve a 100% win rate.\n",
    "\n",
    "You will need to complete the section starting with #pseudocode. The pseudocode has been included for you."
   ]
  },
  {
   "cell_type": "code",
   "execution_count": 9,
   "metadata": {},
   "outputs": [],
   "source": [
    "def qtrain(model, maze, **opt):\n",
    "\n",
    "    # exploration factor\n",
    "    global epsilon \n",
    "\n",
    "    # number of epochs\n",
    "    n_epoch = opt.get('n_epoch', 15000)\n",
    "    \n",
    "    # maximum memory to store episodes\n",
    "    max_memory = opt.get('max_memory', 1000)\n",
    "\n",
    "    # maximum data size for training\n",
    "    data_size = opt.get('data_size', 50)\n",
    "\n",
    "    # start time\n",
    "    start_time = datetime.datetime.now()\n",
    "        \n",
    "    # Construct environment/game from numpy array: maze (see above)\n",
    "    qmaze = TreasureMaze(maze)\n",
    "\n",
    "    # Initialize experience replay object\n",
    "    experience = GameExperience(model, max_memory=max_memory)\n",
    "    \n",
    "    win_history = []   # history of win/lose game\n",
    "    hsize = qmaze.maze.size//2   # history window size\n",
    "    win_rate = 0.0\n",
    "    \n",
    "    # pseudocode:\n",
    "    # For each epoch:\n",
    "    #    Agent_cell = randomly select a free cell\n",
    "\n",
    "    #    Reset the maze with agent set to above position\n",
    "    #    Hint: Review the reset method in the TreasureMaze.py class.\n",
    "    \n",
    "    #    envstate = Environment.current_state\n",
    "    #    Hint: Review the observe method in the TreasureMaze.py class.\n",
    "    \n",
    "    #    While state is not game over:\n",
    "    #        previous_envstate = envstate\n",
    "    #        Action = randomly choose action (left, right, up, down) either by exploration or by exploitation\n",
    "    #        envstate, reward, game_status = qmaze.act(action)\n",
    "    #    Hint: Review the act method in the TreasureMaze.py class.    \n",
    "    #        episode = [previous_envstate, action, reward, envstate, game_status]\n",
    "    #        Store episode in Experience replay object\n",
    "    #    Hint: Review the remember method in the GameExperience.py class.    \n",
    "    #        Train neural network model and evaluate loss\n",
    "    #    Hint: Call GameExperience.get_data to retrieve training data (input and target) and pass to model.fit method \n",
    "    #          to train the model. You can call model.evaluate to determine loss.\n",
    "    #    If the win rate is above the threshold and your model passes the completion check, that would be your epoch.\n",
    "\n",
    "    for epoch in range(n_epoch):\n",
    "\n",
    "        loss = 0.0\n",
    "        \n",
    "        Agent_cell = random.choice(qmaze.free_cells)\n",
    "        \n",
    "        qmaze.reset(Agent_cell)\n",
    "        game_over = False\n",
    "        \n",
    "        envstate = qmaze.observe()\n",
    "\n",
    "        n_episodes = 0\n",
    "        \n",
    "        while not game_over:\n",
    "            #print(\"start loop\")\n",
    "            valid_actions = qmaze.valid_actions()\n",
    "            if not valid_actions: break\n",
    "            previous_envstate = envstate         \n",
    "            if (np.random.rand() < epsilon):\n",
    "                action = random.choice(valid_actions)\n",
    "            else:\n",
    "                action = np.argmax(experience.predict(previous_envstate))\n",
    "            envstate, reward, game_status = qmaze.act(action)\n",
    "            if game_status == 'win':\n",
    "                win_history.append(1)\n",
    "                game_over = True\n",
    "            elif game_status == 'lose':\n",
    "                win_history.append(0)\n",
    "                game_over = True\n",
    "            else:\n",
    "                game_over = False\n",
    "                \n",
    "            episode = [previous_envstate, action, reward, envstate, game_over]\n",
    "            experience.remember(episode)\n",
    "            n_episodes+=1\n",
    "            inputs, targets = experience.get_data(data_size=50)\n",
    "            h = model.fit(inputs, targets, epochs=4, batch_size=8, verbose=0)\n",
    "            loss = model.evaluate(inputs, targets, verbose=0)\n",
    "\n",
    "        if len(win_history) > hsize:\n",
    "            win_rate = sum(win_history[-hsize:]) / hsize    \n",
    "\n",
    "        #Print the epoch, loss, episodes, win count, and win rate for each epoch\n",
    "        dt = datetime.datetime.now() - start_time\n",
    "        t = format_time(dt.total_seconds())\n",
    "        template = \"Epoch: {:03d}/{:d} | Loss: {:.4f} | Episodes: {:d} | Win count: {:d} | Win rate: {:.3f} | time: {}\"\n",
    "        print(template.format(epoch, n_epoch-1, loss, n_episodes, sum(win_history), win_rate, t))\n",
    "        # We simply check if training has exhausted all free cells and if in all\n",
    "        # cases the agent won.\n",
    "        if win_rate > 0.9 : epsilon = 0.05\n",
    "        if sum(win_history[-hsize:]) == hsize and completion_check(model, qmaze):\n",
    "            print(\"Reached 100%% win rate at epoch: %d\" % (epoch,))\n",
    "            break\n",
    "    \n",
    "    \n",
    "\n",
    "    end_time = datetime.datetime.now()\n",
    "    # Determine the total time for training\n",
    "    dt = datetime.datetime.now() - start_time\n",
    "    seconds = dt.total_seconds()\n",
    "    t = format_time(seconds)\n",
    "    \n",
    "    #error was print epoch, not n_epoch\n",
    "    print('files: %s, %s' % (h5file, json_file))\n",
    "    print(\"n_epoch: %d, max_mem: %d, data: %d, time: %s\" % (epoch, max_memory, data_size, t))\n",
    "    return seconds\n",
    "\n",
    "# This is a small utility for printing readable time strings:\n",
    "def format_time(seconds):\n",
    "    if seconds < 400:\n",
    "        s = float(seconds)\n",
    "        return \"%.1f seconds\" % (s,)\n",
    "    elif seconds < 4000:\n",
    "        m = seconds / 60.0\n",
    "        return \"%.2f minutes\" % (m,)\n",
    "    else:\n",
    "        h = seconds / 3600.0\n",
    "        return \"%.2f hours\" % (h,)"
   ]
  },
  {
   "cell_type": "markdown",
   "metadata": {},
   "source": [
    "## Test Your Model\n",
    "\n",
    "Now we will start testing the deep Q-learning implementation. To begin, select **Cell**, then **Run All** from the menu bar. This will run your notebook. As it runs, you should see output begin to appear beneath the next few cells. The code below creates an instance of TreasureMaze."
   ]
  },
  {
   "cell_type": "code",
   "execution_count": 10,
   "metadata": {},
   "outputs": [
    {
     "data": {
      "text/plain": [
       "<matplotlib.image.AxesImage at 0x2308674b070>"
      ]
     },
     "execution_count": 10,
     "metadata": {},
     "output_type": "execute_result"
    },
    {
     "data": {
      "image/png": "[encoded data removed]",
      "text/plain": [
       "<Figure size 432x288 with 1 Axes>"
      ]
     },
     "metadata": {
      "needs_background": "light"
     },
     "output_type": "display_data"
    }
   ],
   "source": [
    "qmaze = TreasureMaze(maze)\n",
    "show(qmaze)"
   ]
  },
  {
   "cell_type": "markdown",
   "metadata": {},
   "source": [
    "In the next code block, you will build your model and train it using deep Q-learning. Note: This step takes several minutes to fully run."
   ]
  },
  {
   "cell_type": "code",
   "execution_count": 11,
   "metadata": {},
   "outputs": [
    {
     "name": "stdout",
     "output_type": "stream",
     "text": [
      "Epoch: 000/14999 | Loss: 0.0488 | Episodes: 149 | Win count: 0 | Win rate: 0.000 | time: 389.2 seconds\n",
      "Epoch: 001/14999 | Loss: 0.0031 | Episodes: 147 | Win count: 0 | Win rate: 0.000 | time: 13.82 minutes\n",
      "Epoch: 002/14999 | Loss: 0.0657 | Episodes: 39 | Win count: 1 | Win rate: 0.000 | time: 15.79 minutes\n",
      "Epoch: 003/14999 | Loss: 0.0027 | Episodes: 144 | Win count: 1 | Win rate: 0.000 | time: 22.98 minutes\n",
      "Epoch: 004/14999 | Loss: 0.0024 | Episodes: 50 | Win count: 2 | Win rate: 0.000 | time: 25.48 minutes\n",
      "Epoch: 005/14999 | Loss: 0.0036 | Episodes: 140 | Win count: 2 | Win rate: 0.000 | time: 32.49 minutes\n",
      "Epoch: 006/14999 | Loss: 0.0026 | Episodes: 139 | Win count: 2 | Win rate: 0.000 | time: 39.43 minutes\n",
      "Epoch: 007/14999 | Loss: 0.0016 | Episodes: 145 | Win count: 2 | Win rate: 0.000 | time: 46.68 minutes\n",
      "Epoch: 008/14999 | Loss: 0.0015 | Episodes: 138 | Win count: 2 | Win rate: 0.000 | time: 53.57 minutes\n",
      "Epoch: 009/14999 | Loss: 0.0009 | Episodes: 144 | Win count: 2 | Win rate: 0.000 | time: 60.83 minutes\n",
      "Epoch: 010/14999 | Loss: 0.0423 | Episodes: 137 | Win count: 2 | Win rate: 0.000 | time: 1.13 hours\n",
      "Epoch: 011/14999 | Loss: 0.0576 | Episodes: 143 | Win count: 2 | Win rate: 0.000 | time: 1.25 hours\n",
      "Epoch: 012/14999 | Loss: 0.0594 | Episodes: 49 | Win count: 3 | Win rate: 0.000 | time: 1.29 hours\n",
      "Epoch: 013/14999 | Loss: 0.0425 | Episodes: 79 | Win count: 4 | Win rate: 0.000 | time: 1.35 hours\n",
      "Epoch: 014/14999 | Loss: 0.0236 | Episodes: 136 | Win count: 4 | Win rate: 0.000 | time: 1.47 hours\n",
      "Epoch: 015/14999 | Loss: 0.0298 | Episodes: 135 | Win count: 4 | Win rate: 0.000 | time: 1.58 hours\n",
      "Epoch: 016/14999 | Loss: 0.0020 | Episodes: 15 | Win count: 5 | Win rate: 0.000 | time: 1.59 hours\n",
      "Epoch: 017/14999 | Loss: 0.0493 | Episodes: 142 | Win count: 5 | Win rate: 0.000 | time: 1.71 hours\n",
      "Epoch: 018/14999 | Loss: 0.0204 | Episodes: 74 | Win count: 6 | Win rate: 0.000 | time: 1.77 hours\n",
      "Epoch: 019/14999 | Loss: 0.0300 | Episodes: 18 | Win count: 7 | Win rate: 0.000 | time: 1.79 hours\n",
      "Epoch: 020/14999 | Loss: 0.0193 | Episodes: 141 | Win count: 7 | Win rate: 0.000 | time: 1.91 hours\n",
      "Epoch: 021/14999 | Loss: 0.0261 | Episodes: 15 | Win count: 8 | Win rate: 0.000 | time: 1.92 hours\n",
      "Epoch: 022/14999 | Loss: 0.0203 | Episodes: 19 | Win count: 9 | Win rate: 0.000 | time: 1.93 hours\n",
      "Epoch: 023/14999 | Loss: 0.0990 | Episodes: 14 | Win count: 10 | Win rate: 0.000 | time: 1.95 hours\n",
      "Epoch: 024/14999 | Loss: 0.0187 | Episodes: 4 | Win count: 11 | Win rate: 0.000 | time: 1.95 hours\n",
      "Epoch: 025/14999 | Loss: 0.0100 | Episodes: 140 | Win count: 11 | Win rate: 0.000 | time: 2.07 hours\n",
      "Epoch: 026/14999 | Loss: 0.0257 | Episodes: 33 | Win count: 12 | Win rate: 0.000 | time: 2.09 hours\n",
      "Epoch: 027/14999 | Loss: 0.0088 | Episodes: 44 | Win count: 13 | Win rate: 0.000 | time: 2.13 hours\n",
      "Epoch: 028/14999 | Loss: 0.0130 | Episodes: 105 | Win count: 14 | Win rate: 0.000 | time: 2.22 hours\n",
      "Epoch: 029/14999 | Loss: 0.0071 | Episodes: 146 | Win count: 14 | Win rate: 0.000 | time: 2.34 hours\n",
      "Epoch: 030/14999 | Loss: 0.0298 | Episodes: 2 | Win count: 15 | Win rate: 0.000 | time: 2.34 hours\n",
      "Epoch: 031/14999 | Loss: 0.0167 | Episodes: 8 | Win count: 16 | Win rate: 0.000 | time: 2.35 hours\n",
      "Epoch: 032/14999 | Loss: 0.0033 | Episodes: 78 | Win count: 17 | Win rate: 0.531 | time: 2.41 hours\n",
      "Epoch: 033/14999 | Loss: 0.0190 | Episodes: 19 | Win count: 18 | Win rate: 0.562 | time: 2.43 hours\n",
      "Epoch: 034/14999 | Loss: 0.0124 | Episodes: 25 | Win count: 19 | Win rate: 0.562 | time: 2.45 hours\n",
      "Epoch: 035/14999 | Loss: 0.0186 | Episodes: 13 | Win count: 20 | Win rate: 0.594 | time: 2.46 hours\n",
      "Epoch: 036/14999 | Loss: 0.0092 | Episodes: 2 | Win count: 21 | Win rate: 0.594 | time: 2.46 hours\n",
      "Epoch: 037/14999 | Loss: 0.0082 | Episodes: 38 | Win count: 22 | Win rate: 0.625 | time: 2.49 hours\n",
      "Epoch: 038/14999 | Loss: 0.0061 | Episodes: 25 | Win count: 23 | Win rate: 0.656 | time: 2.52 hours\n",
      "Epoch: 039/14999 | Loss: 0.0023 | Episodes: 44 | Win count: 24 | Win rate: 0.688 | time: 2.55 hours\n",
      "Epoch: 040/14999 | Loss: 0.0130 | Episodes: 11 | Win count: 25 | Win rate: 0.719 | time: 2.56 hours\n",
      "Epoch: 041/14999 | Loss: 0.0050 | Episodes: 1 | Win count: 26 | Win rate: 0.750 | time: 2.56 hours\n",
      "Epoch: 042/14999 | Loss: 0.0054 | Episodes: 138 | Win count: 26 | Win rate: 0.750 | time: 2.68 hours\n",
      "Epoch: 043/14999 | Loss: 0.0070 | Episodes: 1 | Win count: 27 | Win rate: 0.781 | time: 2.68 hours\n",
      "Epoch: 044/14999 | Loss: 0.0137 | Episodes: 139 | Win count: 27 | Win rate: 0.750 | time: 2.79 hours\n",
      "Epoch: 045/14999 | Loss: 0.0049 | Episodes: 32 | Win count: 28 | Win rate: 0.750 | time: 2.82 hours\n",
      "Epoch: 046/14999 | Loss: 0.0894 | Episodes: 55 | Win count: 29 | Win rate: 0.781 | time: 2.87 hours\n",
      "Epoch: 047/14999 | Loss: 0.0030 | Episodes: 29 | Win count: 30 | Win rate: 0.812 | time: 2.89 hours\n",
      "Epoch: 048/14999 | Loss: 0.0038 | Episodes: 21 | Win count: 31 | Win rate: 0.812 | time: 2.91 hours\n",
      "Epoch: 049/14999 | Loss: 0.0026 | Episodes: 17 | Win count: 32 | Win rate: 0.844 | time: 2.92 hours\n",
      "Epoch: 050/14999 | Loss: 0.0088 | Episodes: 20 | Win count: 33 | Win rate: 0.844 | time: 2.94 hours\n",
      "Epoch: 051/14999 | Loss: 0.0048 | Episodes: 29 | Win count: 34 | Win rate: 0.844 | time: 2.96 hours\n",
      "Epoch: 052/14999 | Loss: 0.0501 | Episodes: 3 | Win count: 35 | Win rate: 0.875 | time: 2.97 hours\n",
      "Epoch: 053/14999 | Loss: 0.0029 | Episodes: 9 | Win count: 36 | Win rate: 0.875 | time: 2.97 hours\n",
      "Epoch: 054/14999 | Loss: 0.0388 | Episodes: 25 | Win count: 37 | Win rate: 0.875 | time: 3.00 hours\n",
      "Epoch: 055/14999 | Loss: 0.0103 | Episodes: 19 | Win count: 38 | Win rate: 0.875 | time: 3.01 hours\n",
      "Epoch: 056/14999 | Loss: 0.0069 | Episodes: 20 | Win count: 39 | Win rate: 0.875 | time: 3.03 hours\n",
      "Epoch: 057/14999 | Loss: 0.0055 | Episodes: 38 | Win count: 40 | Win rate: 0.906 | time: 3.06 hours\n",
      "Epoch: 058/14999 | Loss: 0.0068 | Episodes: 15 | Win count: 41 | Win rate: 0.906 | time: 3.07 hours\n",
      "Epoch: 059/14999 | Loss: 0.0131 | Episodes: 1 | Win count: 42 | Win rate: 0.906 | time: 3.07 hours\n",
      "Epoch: 060/14999 | Loss: 0.0048 | Episodes: 22 | Win count: 43 | Win rate: 0.906 | time: 3.09 hours\n",
      "Epoch: 061/14999 | Loss: 0.0033 | Episodes: 13 | Win count: 44 | Win rate: 0.938 | time: 3.10 hours\n",
      "Epoch: 062/14999 | Loss: 0.0027 | Episodes: 9 | Win count: 45 | Win rate: 0.938 | time: 3.11 hours\n",
      "Epoch: 063/14999 | Loss: 0.0053 | Episodes: 17 | Win count: 46 | Win rate: 0.938 | time: 3.12 hours\n",
      "Epoch: 064/14999 | Loss: 0.0024 | Episodes: 4 | Win count: 47 | Win rate: 0.938 | time: 3.13 hours\n",
      "Epoch: 065/14999 | Loss: 0.0026 | Episodes: 6 | Win count: 48 | Win rate: 0.938 | time: 3.13 hours\n",
      "Epoch: 066/14999 | Loss: 0.0047 | Episodes: 8 | Win count: 49 | Win rate: 0.938 | time: 3.14 hours\n",
      "Epoch: 067/14999 | Loss: 0.0039 | Episodes: 13 | Win count: 50 | Win rate: 0.938 | time: 3.15 hours\n",
      "Epoch: 068/14999 | Loss: 0.0041 | Episodes: 6 | Win count: 51 | Win rate: 0.938 | time: 3.15 hours\n",
      "Epoch: 069/14999 | Loss: 0.0272 | Episodes: 23 | Win count: 52 | Win rate: 0.938 | time: 3.17 hours\n",
      "Epoch: 070/14999 | Loss: 0.0051 | Episodes: 6 | Win count: 53 | Win rate: 0.938 | time: 3.18 hours\n",
      "Epoch: 071/14999 | Loss: 0.0040 | Episodes: 24 | Win count: 54 | Win rate: 0.938 | time: 3.20 hours\n",
      "Epoch: 072/14999 | Loss: 0.0010 | Episodes: 26 | Win count: 55 | Win rate: 0.938 | time: 3.22 hours\n",
      "Epoch: 073/14999 | Loss: 0.0011 | Episodes: 1 | Win count: 56 | Win rate: 0.938 | time: 3.22 hours\n",
      "Epoch: 074/14999 | Loss: 0.0034 | Episodes: 8 | Win count: 57 | Win rate: 0.969 | time: 3.23 hours\n",
      "Epoch: 075/14999 | Loss: 0.0009 | Episodes: 29 | Win count: 58 | Win rate: 0.969 | time: 3.25 hours\n",
      "Epoch: 076/14999 | Loss: 0.0012 | Episodes: 2 | Win count: 59 | Win rate: 1.000 | time: 3.25 hours\n",
      "Epoch: 077/14999 | Loss: 0.0011 | Episodes: 5 | Win count: 60 | Win rate: 1.000 | time: 3.26 hours\n",
      "Epoch: 078/14999 | Loss: 0.0009 | Episodes: 35 | Win count: 61 | Win rate: 1.000 | time: 3.29 hours\n",
      "Epoch: 079/14999 | Loss: 0.0011 | Episodes: 65 | Win count: 62 | Win rate: 1.000 | time: 3.35 hours\n",
      "Epoch: 080/14999 | Loss: 0.0015 | Episodes: 37 | Win count: 63 | Win rate: 1.000 | time: 3.38 hours\n",
      "Epoch: 081/14999 | Loss: 0.0042 | Episodes: 37 | Win count: 64 | Win rate: 1.000 | time: 3.42 hours\n",
      "Epoch: 082/14999 | Loss: 0.0035 | Episodes: 56 | Win count: 65 | Win rate: 1.000 | time: 3.47 hours\n",
      "Epoch: 083/14999 | Loss: 0.0013 | Episodes: 15 | Win count: 66 | Win rate: 1.000 | time: 3.48 hours\n",
      "Epoch: 084/14999 | Loss: 0.0045 | Episodes: 10 | Win count: 67 | Win rate: 1.000 | time: 3.49 hours\n",
      "Epoch: 085/14999 | Loss: 0.0017 | Episodes: 17 | Win count: 68 | Win rate: 1.000 | time: 3.51 hours\n",
      "Epoch: 086/14999 | Loss: 0.0007 | Episodes: 19 | Win count: 69 | Win rate: 1.000 | time: 3.53 hours\n",
      "Epoch: 087/14999 | Loss: 0.0046 | Episodes: 15 | Win count: 70 | Win rate: 1.000 | time: 3.54 hours\n",
      "Epoch: 088/14999 | Loss: 0.0010 | Episodes: 18 | Win count: 71 | Win rate: 1.000 | time: 3.56 hours\n",
      "Epoch: 089/14999 | Loss: 0.0026 | Episodes: 16 | Win count: 72 | Win rate: 1.000 | time: 3.57 hours\n",
      "Epoch: 090/14999 | Loss: 0.0011 | Episodes: 18 | Win count: 73 | Win rate: 1.000 | time: 3.59 hours\n",
      "Epoch: 091/14999 | Loss: 0.0011 | Episodes: 31 | Win count: 74 | Win rate: 1.000 | time: 3.62 hours\n",
      "Epoch: 092/14999 | Loss: 0.0043 | Episodes: 23 | Win count: 75 | Win rate: 1.000 | time: 3.64 hours\n",
      "Epoch: 093/14999 | Loss: 0.0015 | Episodes: 30 | Win count: 76 | Win rate: 1.000 | time: 3.67 hours\n",
      "Epoch: 094/14999 | Loss: 0.0007 | Episodes: 7 | Win count: 77 | Win rate: 1.000 | time: 3.68 hours\n",
      "Epoch: 095/14999 | Loss: 0.0012 | Episodes: 49 | Win count: 78 | Win rate: 1.000 | time: 3.72 hours\n",
      "Epoch: 096/14999 | Loss: 0.0012 | Episodes: 27 | Win count: 79 | Win rate: 1.000 | time: 3.75 hours\n",
      "Epoch: 097/14999 | Loss: 0.0013 | Episodes: 3 | Win count: 80 | Win rate: 1.000 | time: 3.76 hours\n",
      "Epoch: 098/14999 | Loss: 0.0008 | Episodes: 11 | Win count: 81 | Win rate: 1.000 | time: 3.77 hours\n",
      "Epoch: 099/14999 | Loss: 0.0011 | Episodes: 21 | Win count: 82 | Win rate: 1.000 | time: 3.80 hours\n",
      "Epoch: 100/14999 | Loss: 0.0010 | Episodes: 19 | Win count: 83 | Win rate: 1.000 | time: 3.82 hours\n",
      "Epoch: 101/14999 | Loss: 0.0021 | Episodes: 3 | Win count: 84 | Win rate: 1.000 | time: 3.82 hours\n",
      "Reached 100% win rate at epoch: 101\n"
     ]
    },
    {
     "ename": "NameError",
     "evalue": "name 'h5file' is not defined",
     "output_type": "error",
     "traceback": [
      "\u001b[1;31m---------------------------------------------------------------------------\u001b[0m",
      "\u001b[1;31mNameError\u001b[0m                                 Traceback (most recent call last)",
      "\u001b[1;32m<ipython-input-11-3f866ecde593>\u001b[0m in \u001b[0;36m<module>\u001b[1;34m\u001b[0m\n\u001b[0;32m      1\u001b[0m \u001b[0mmodel\u001b[0m \u001b[1;33m=\u001b[0m \u001b[0mbuild_model\u001b[0m\u001b[1;33m(\u001b[0m\u001b[0mmaze\u001b[0m\u001b[1;33m)\u001b[0m\u001b[1;33m\u001b[0m\u001b[1;33m\u001b[0m\u001b[0m\n\u001b[1;32m----> 2\u001b[1;33m \u001b[0mqtrain\u001b[0m\u001b[1;33m(\u001b[0m\u001b[0mmodel\u001b[0m\u001b[1;33m,\u001b[0m \u001b[0mmaze\u001b[0m\u001b[1;33m,\u001b[0m \u001b[0mepochs\u001b[0m\u001b[1;33m=\u001b[0m\u001b[1;36m1000\u001b[0m\u001b[1;33m,\u001b[0m \u001b[0mmax_memory\u001b[0m\u001b[1;33m=\u001b[0m\u001b[1;36m8\u001b[0m\u001b[1;33m*\u001b[0m\u001b[0mmaze\u001b[0m\u001b[1;33m.\u001b[0m\u001b[0msize\u001b[0m\u001b[1;33m,\u001b[0m \u001b[0mdata_size\u001b[0m\u001b[1;33m=\u001b[0m\u001b[1;36m32\u001b[0m\u001b[1;33m)\u001b[0m\u001b[1;33m\u001b[0m\u001b[1;33m\u001b[0m\u001b[0m\n\u001b[0m",
      "\u001b[1;32m<ipython-input-9-20ce494f15d8>\u001b[0m in \u001b[0;36mqtrain\u001b[1;34m(model, maze, **opt)\u001b[0m\n\u001b[0;32m    112\u001b[0m \u001b[1;33m\u001b[0m\u001b[0m\n\u001b[0;32m    113\u001b[0m     \u001b[1;31m#error was print epoch, not n_epoch\u001b[0m\u001b[1;33m\u001b[0m\u001b[1;33m\u001b[0m\u001b[1;33m\u001b[0m\u001b[0m\n\u001b[1;32m--> 114\u001b[1;33m     \u001b[0mprint\u001b[0m\u001b[1;33m(\u001b[0m\u001b[1;34m'files: %s, %s'\u001b[0m \u001b[1;33m%\u001b[0m \u001b[1;33m(\u001b[0m\u001b[0mh5file\u001b[0m\u001b[1;33m,\u001b[0m \u001b[0mjson_file\u001b[0m\u001b[1;33m)\u001b[0m\u001b[1;33m)\u001b[0m\u001b[1;33m\u001b[0m\u001b[1;33m\u001b[0m\u001b[0m\n\u001b[0m\u001b[0;32m    115\u001b[0m     \u001b[0mprint\u001b[0m\u001b[1;33m(\u001b[0m\u001b[1;34m\"n_epoch: %d, max_mem: %d, data: %d, time: %s\"\u001b[0m \u001b[1;33m%\u001b[0m \u001b[1;33m(\u001b[0m\u001b[0mepoch\u001b[0m\u001b[1;33m,\u001b[0m \u001b[0mmax_memory\u001b[0m\u001b[1;33m,\u001b[0m \u001b[0mdata_size\u001b[0m\u001b[1;33m,\u001b[0m \u001b[0mt\u001b[0m\u001b[1;33m)\u001b[0m\u001b[1;33m)\u001b[0m\u001b[1;33m\u001b[0m\u001b[1;33m\u001b[0m\u001b[0m\n\u001b[0;32m    116\u001b[0m     \u001b[1;32mreturn\u001b[0m \u001b[0mseconds\u001b[0m\u001b[1;33m\u001b[0m\u001b[1;33m\u001b[0m\u001b[0m\n",
      "\u001b[1;31mNameError\u001b[0m: name 'h5file' is not defined"
     ]
    }
   ],
   "source": [
    "model = build_model(maze)\n",
    "qtrain(model, maze, epochs=1000, max_memory=8*maze.size, data_size=32)"
   ]
  },
  {
   "cell_type": "markdown",
   "metadata": {},
   "source": [
    "This cell will check to see if the model passes the completion check. Note: This could take several minutes."
   ]
  },
  {
   "cell_type": "code",
   "execution_count": 12,
   "metadata": {},
   "outputs": [
    {
     "data": {
      "text/plain": [
       "<matplotlib.image.AxesImage at 0x23099fd1550>"
      ]
     },
     "execution_count": 12,
     "metadata": {},
     "output_type": "execute_result"
    },
    {
     "data": {
      "image/png": "[encoded data removed]",
      "text/plain": [
       "<Figure size 432x288 with 1 Axes>"
      ]
     },
     "metadata": {
      "needs_background": "light"
     },
     "output_type": "display_data"
    }
   ],
   "source": [
    "completion_check(model, qmaze)\n",
    "show(qmaze)"
   ]
  },
  {
   "cell_type": "markdown",
   "metadata": {},
   "source": [
    "This cell will test your model for one game. It will start the pirate at the top-left corner and run play_game. The agent should find a path from the starting position to the target (treasure). The treasure is located in the bottom-right corner."
   ]
  },
  {
   "cell_type": "code",
   "execution_count": 13,
   "metadata": {},
   "outputs": [
    {
     "data": {
      "text/plain": [
       "<matplotlib.image.AxesImage at 0x2308eeb7580>"
      ]
     },
     "execution_count": 13,
     "metadata": {},
     "output_type": "execute_result"
    },
    {
     "data": {
      "image/png": "[encoded data removed]",
      "text/plain": [
       "<Figure size 432x288 with 1 Axes>"
      ]
     },
     "metadata": {
      "needs_background": "light"
     },
     "output_type": "display_data"
    }
   ],
   "source": [
    "pirate_start = (0, 0)\n",
    "play_game(model, qmaze, pirate_start)\n",
    "show(qmaze)"
   ]
  },
  {
   "cell_type": "markdown",
   "metadata": {},
   "source": [
    "## Save and Submit Your Work\n",
    "After you have finished creating the code for your notebook, save your work. Make sure that your notebook contains your name in the filename (e.g. Doe_Jane_ProjectTwo.ipynb). This will help your instructor access and grade your work easily. Download a copy of your IPYNB file and submit it to Brightspace. Refer to the Jupyter Notebook in Apporto Tutorial if you need help with these tasks."
   ]
  }
 ],
 "metadata": {
  "kernelspec": {
   "display_name": "Python 3",
   "language": "python",
   "name": "python3"
  },
  "language_info": {
   "codemirror_mode": {
    "name": "ipython",
    "version": 3
   },
   "file_extension": ".py",
   "mimetype": "text/x-python",
   "name": "python",
   "nbconvert_exporter": "python",
   "pygments_lexer": "ipython3",
   "version": "3.8.5"
  }
 },
 "nbformat": 4,
 "nbformat_minor": 4
}
